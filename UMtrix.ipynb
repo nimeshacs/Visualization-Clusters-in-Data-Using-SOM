{
  "nbformat": 4,
  "nbformat_minor": 0,
  "metadata": {
    "kernelspec": {
      "display_name": "Python 3",
      "language": "python",
      "name": "python3"
    },
    "language_info": {
      "codemirror_mode": {
        "name": "ipython",
        "version": 3
      },
      "file_extension": ".py",
      "mimetype": "text/x-python",
      "name": "python",
      "nbconvert_exporter": "python",
      "pygments_lexer": "ipython3",
      "version": "3.6.1"
    },
    "colab": {
      "name": "SOM.ipynb",
      "provenance": [],
      "collapsed_sections": []
    }
  },
  "cells": [
    {
      "cell_type": "code",
      "metadata": {
        "id": "FAhefL16dpZR",
        "colab_type": "code",
        "colab": {}
      },
      "source": [
        "\"\"\"\n",
        "Fomatted @09-09-2020 \n",
        "@Nimesha Muthunayake\n",
        "Visualization Clusters in Data Using SOM\n",
        "Nimesha Asintha Muthunayake\n",
        "CS5613 - Neural Networks\n",
        "Assignment 2\n",
        "\"\"\"\n",
        "import numpy as np\n",
        "import matplotlib.pyplot as plt"
      ],
      "execution_count": 3,
      "outputs": []
    },
    {
      "cell_type": "code",
      "metadata": {
        "id": "RSmm9vwHdpZ3",
        "colab_type": "code",
        "colab": {}
      },
      "source": [
        "def closest_node(data, t, map, m_rows, m_cols):\n",
        "      result = (0,0)\n",
        "      small_dist = 1.0e20\n",
        "      for i in range(m_rows):\n",
        "        for j in range(m_cols):\n",
        "          ed = euc_dist(map[i][j], data[t])\n",
        "          if ed < small_dist:\n",
        "            small_dist = ed\n",
        "            result = (i, j)\n",
        "      return result\n",
        "\n",
        "def euc_dist(v1, v2):\n",
        "  return np.linalg.norm(v1 - v2) \n",
        "\n",
        "def manhattan_dist(r1, c1, r2, c2):\n",
        "  return np.abs(r1-r2) + np.abs(c1-c2)\n",
        "\n",
        "def most_common(lst, n):\n",
        "  # lst is a list of values 0 . . n\n",
        "  if len(lst) == 0: return -1\n",
        "  counts = np.zeros(shape=n, dtype=np.int)\n",
        "  for i in range(len(lst)):\n",
        "    counts[lst[i]] += 1\n",
        "  return np.argmax(counts)"
      ],
      "execution_count": 4,
      "outputs": []
    },
    {
      "cell_type": "code",
      "metadata": {
        "id": "ggTRMtQSdpaG",
        "colab_type": "code",
        "colab": {
          "base_uri": "https://localhost:8080/",
          "height": 550
        },
        "outputId": "ef49a89c-c05d-403b-daba-aef85d01283f"
      },
      "source": [
        "def main():\n",
        "  # 0. get started\n",
        "  np.random.seed(1)\n",
        "  Dim = 4\n",
        "  Rows = 30; Cols = 30\n",
        "  RangeMax = Rows + Cols\n",
        "  LearnMax = 0.5\n",
        "  StepsMax = 5000\n",
        "\n",
        "  # Load the Iris data in to program \n",
        "  data_file = \"/content/drive/My Drive/Nimesha/iris_data_012.txt\"\n",
        "  data_x = np.loadtxt(data_file, delimiter=\",\", usecols=range(0,4),dtype=np.float64)\n",
        "  data_y = np.loadtxt(data_file, delimiter=\",\", usecols=[4],dtype=np.int)\n",
        "\n",
        "  #Construct the SOM network  , Constructing a 30x30 SOM from the iris data\n",
        "  print(\"Constructing a 30x30 SOM for data set\")\n",
        "  map = np.random.random_sample(size=(Rows,Cols,Dim))\n",
        "  for s in range(StepsMax):\n",
        "    if s % (StepsMax/10) == 0: print(\"step = \", str(s))\n",
        "    pct_left = 1.0 - ((s * 1.0) / StepsMax)\n",
        "    curr_range = (int)(pct_left * RangeMax)\n",
        "    curr_rate = pct_left * LearnMax\n",
        "\n",
        "    t = np.random.randint(len(data_x))\n",
        "    (bmu_row, bmu_col) = closest_node(data_x, t, map, Rows, Cols)\n",
        "    for i in range(Rows):\n",
        "      for j in range(Cols):\n",
        "        if manhattan_dist(bmu_row, bmu_col, i, j) < curr_range:\n",
        "          map[i][j] = map[i][j] + curr_rate * \\\n",
        "(data_x[t] - map[i][j])\n",
        "  print(\"SOM is gnerated \\n\")\n",
        "    \n",
        "  #U-Matrix Visualization \n",
        "  print(\"Constructing U-Matrix from SOM\")\n",
        "  u_matrix = np.zeros(shape=(Rows,Cols), dtype=np.float64)\n",
        "  for i in range(Rows):\n",
        "    for j in range(Cols):\n",
        "      v = map[i][j]  # a vector \n",
        "      sum_dists = 0.0; ct = 0\n",
        "     \n",
        "      if i-1 >= 0:    # above\n",
        "        sum_dists += euc_dist(v, map[i-1][j]); ct += 1\n",
        "      if i+1 <= Rows-1:   # below\n",
        "        sum_dists += euc_dist(v, map[i+1][j]); ct += 1\n",
        "      if j-1 >= 0:   # left\n",
        "        sum_dists += euc_dist(v, map[i][j-1]); ct += 1\n",
        "      if j+1 <= Cols-1:   # right\n",
        "        sum_dists += euc_dist(v, map[i][j+1]); ct += 1\n",
        "      \n",
        "      u_matrix[i][j] = sum_dists / ct\n",
        "  print(\"U-Matrix is generated \\n\")\n",
        "\n",
        "  # display U-Matrix\n",
        "  plt.imshow(u_matrix, cmap='gray')  \n",
        "  plt.show()\n",
        "  # display reduced data\n",
        "\n",
        "if __name__==\"__main__\":\n",
        "  main()"
      ],
      "execution_count": 8,
      "outputs": [
        {
          "output_type": "stream",
          "text": [
            "Constructing a 30x30 SOM for data set\n",
            "step =  0\n",
            "step =  500\n",
            "step =  1000\n",
            "step =  1500\n",
            "step =  2000\n",
            "step =  2500\n",
            "step =  3000\n",
            "step =  3500\n",
            "step =  4000\n",
            "step =  4500\n",
            "SOM is gnerated \n",
            "\n",
            "Constructing U-Matrix from SOM\n",
            "U-Matrix is generated \n",
            "\n"
          ],
          "name": "stdout"
        },
        {
          "output_type": "display_data",
          "data": {
            "image/png": "[encoded data removed]",
            "text/plain": [
              "<Figure size 432x288 with 1 Axes>"
            ]
          },
          "metadata": {
            "tags": [],
            "needs_background": "light"
          }
        }
      ]
    },
    {
      "cell_type": "code",
      "metadata": {
        "id": "2F_xeFOodpaV",
        "colab_type": "code",
        "colab": {}
      },
      "source": [
        ""
      ],
      "execution_count": null,
      "outputs": []
    }
  ]
}